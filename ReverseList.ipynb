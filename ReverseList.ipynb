{
  "nbformat": 4,
  "nbformat_minor": 0,
  "metadata": {
    "colab": {
      "name": "ReverseList.ipynb",
      "provenance": [],
      "collapsed_sections": [],
      "authorship_tag": "ABX9TyNchs2B0uDXdVEU7fr00h5a",
      "include_colab_link": true
    },
    "kernelspec": {
      "name": "python3",
      "display_name": "Python 3"
    },
    "language_info": {
      "name": "python"
    }
  },
  "cells": [
    {
      "cell_type": "markdown",
      "metadata": {
        "id": "view-in-github",
        "colab_type": "text"
      },
      "source": [
        "<a href=\"https://colab.research.google.com/github/MuserrefOzkn/GlobalAIHubPythonCourse/blob/main/ReverseList.ipynb\" target=\"_parent\"><img src=\"https://colab.research.google.com/assets/colab-badge.svg\" alt=\"Open In Colab\"/></a>"
      ]
    },
    {
      "cell_type": "code",
      "metadata": {
        "colab": {
          "base_uri": "https://localhost:8080/"
        },
        "id": "m_cN82U8JwEe",
        "outputId": "10278c2e-5702-4b92-99f3-9b1e9577b9ad"
      },
      "source": [
        "nlist = [[1, 2], [3, 4], [5, 6, 7]]\n",
        "list2 = []\n",
        "\n",
        "def reverse_list(list1):\n",
        "  x = -1\n",
        "  for i in range(len(list1)):\n",
        "    j = list1[x]\n",
        "    j.reverse()\n",
        "    list2.append(j)\n",
        "    x -= 1\n",
        "\n",
        "  print(list2)\n",
        "\n",
        "reverse_list(nlist)\n"
      ],
      "execution_count": null,
      "outputs": [
        {
          "output_type": "stream",
          "name": "stdout",
          "text": [
            "[[7, 6, 5], [4, 3], [2, 1]]\n"
          ]
        }
      ]
    },
    {
      "cell_type": "code",
      "metadata": {
        "id": "C8KlxW3LK-h-"
      },
      "source": [
        ""
      ],
      "execution_count": null,
      "outputs": []
    }
  ]
}